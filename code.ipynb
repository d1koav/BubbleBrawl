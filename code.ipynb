{
 "cells": [
  {
   "cell_type": "markdown",
   "source": [
    "## Чтение файла и запись в переменную *templates*"
   ],
   "metadata": {
    "collapsed": false,
    "pycharm": {
     "name": "#%% md\n"
    }
   }
  },
  {
   "cell_type": "code",
   "execution_count": 1,
   "id": "6cfc6f4b",
   "metadata": {
    "pycharm": {
     "name": "#%%\n"
    }
   },
   "outputs": [
    {
     "data": {
      "text/plain": "dict_keys(['put_cargos', 'cargo_space', 'cargo_groups', 'timeout_params', 'calculation_params'])"
     },
     "execution_count": 1,
     "metadata": {},
     "output_type": "execute_result"
    }
   ],
   "source": [
    "import json\n",
    "\n",
    "with open('_vg_85_bgg5jsons 2/0/30_cl.json') as f:\n",
    "    templates = json.load(f)\n",
    "templates.keys()"
   ]
  },
  {
   "cell_type": "markdown",
   "source": [
    "### Вывод информации о грузе, как пример ключей в словаре"
   ],
   "metadata": {
    "collapsed": false,
    "pycharm": {
     "name": "#%% md\n"
    }
   }
  },
  {
   "cell_type": "code",
   "execution_count": 2,
   "id": "68665f71",
   "metadata": {
    "pycharm": {
     "name": "#%%\n"
    }
   },
   "outputs": [
    {
     "data": {
      "text/plain": "{'id': '12043Y1',\n 'mass': 1832,\n 'size': [230, 230, 380],\n 'sort': 1,\n 'count': 1,\n 'stacking': True,\n 'turnover': False,\n 'overhang_angle': 50,\n 'stacking_limit': 0,\n 'stacking_is_limited': False,\n 'group_id': '4561038K1'}"
     },
     "execution_count": 2,
     "metadata": {},
     "output_type": "execute_result"
    }
   ],
   "source": [
    "templates['cargo_groups'][0]"
   ]
  },
  {
   "cell_type": "markdown",
   "source": [
    "### Пример подсчета общей массы груза в граммах"
   ],
   "metadata": {
    "collapsed": false,
    "pycharm": {
     "name": "#%% md\n"
    }
   }
  },
  {
   "cell_type": "code",
   "execution_count": 3,
   "id": "053b245e",
   "metadata": {
    "pycharm": {
     "name": "#%%\n"
    }
   },
   "outputs": [
    {
     "data": {
      "text/plain": "71000"
     },
     "execution_count": 3,
     "metadata": {},
     "output_type": "execute_result"
    }
   ],
   "source": [
    "mass = 0\n",
    "for i in templates['cargo_groups']:\n",
    "    mass += i['mass']*i['count']\n",
    "mass"
   ]
  },
  {
   "cell_type": "markdown",
   "source": [],
   "metadata": {
    "collapsed": false,
    "pycharm": {
     "name": "#%% md\n"
    }
   }
  },
  {
   "cell_type": "markdown",
   "source": [
    "# Класс RectangularCuboid, основной класс для создания объекта коробки."
   ],
   "metadata": {
    "collapsed": false,
    "pycharm": {
     "name": "#%% md\n"
    }
   }
  },
  {
   "cell_type": "code",
   "execution_count": 184,
   "id": "934ed9f6",
   "metadata": {
    "pycharm": {
     "name": "#%%\n"
    }
   },
   "outputs": [
    {
     "data": {
      "text/plain": "{'number': 0,\n 'volume': 0.020102000000000002,\n 'square': {'xz_square': 0.0874, 'xy_square': 0.0874, 'yz_square': 0.0529},\n 'size': {'width': 0.23, 'height': 0.23, 'length': 0.38},\n 'orientation': 0,\n 'size_orientated': {'width': 0.23, 'height': 0.23, 'length': 0.38},\n 'square_orientated': {'xz_square': 0.0874,\n  'xy_square': 0.0874,\n  'yz_square': 0.0529},\n 'center_coords': {'x': None, 'y': None, 'z': None},\n 'nodes': {'front': None,\n  'right': None,\n  'back': None,\n  'left': None,\n  'up': None,\n  'down': None},\n 'cords_min_max': {'x_min': None,\n  'x_max': None,\n  'y_min': None,\n  'y_max': None,\n  'z_min': None,\n  'z_max': None},\n 'points': {'P1': None,\n  'P2': None,\n  'P3': None,\n  'P4': None,\n  'P5': None,\n  'P6': None,\n  'P7': None,\n  'P8': None}}"
     },
     "execution_count": 184,
     "metadata": {},
     "output_type": "execute_result"
    }
   ],
   "source": [
    "class RectangularCuboid:\n",
    "    # Конструктор\n",
    "    def __init__(self, number,sizes):\n",
    "        # Дефолтные координаты объекта равны None(null)\n",
    "        # upd - новый способ хранить центр\n",
    "        self.center = {'x' : None, 'y' : None, 'z' : None}\n",
    "        # Ориентация может принимать значения от 0 до 5(картинка в беседе)\n",
    "        self.orientation = 0\n",
    "        self.points = {\"P1\" : None, \"P2\" : None, \"P3\" : None, \"P4\" : None, \"P5\" : None, \"P6\" : None, \"P7\" : None, \"P8\" : None}\n",
    "        # Словарь координат\n",
    "        self.cords = {'x_min' : None, 'x_max' : None, 'y_min' : None, 'y_max' : None, 'z_min' : None, 'z_max' : None}\n",
    "        # Словарь узлов для каждой поверхности\n",
    "        self.nodes = {\"front\" : None, \"right\" : None, \"back\" : None, \"left\" : None,  \"up\" : None, \"down\" : None}\n",
    "        # Нумерование коробки\n",
    "        self.number = number\n",
    "        # Обработка sizes, можно прям из json закидывать, понимает как словарь, так и список. Все измерения сразу в метрах\n",
    "        if isinstance(sizes, dict):\n",
    "            self.size = {'width' : sizes['width']/1000, \"height\" : sizes['height']/1000, \"length\" : sizes['length']/1000}\n",
    "        else:\n",
    "            self.size = {'width' : sizes[0]/1000, \"height\" : sizes[1]/1000, \"length\" : sizes[2]/1000}\n",
    "        # Объем в м^3\n",
    "        self.volume = self.size['width']*self.size['height']*self.size['length']\n",
    "        # Словарь площадей по всем трем плоскостям\n",
    "        self.square = {'xz_square' : self.size['width']*self.size['length'], 'xy_square' : self.size['height']*self.size['length'], 'yz_square' : self.size['height']*self.size['width']}\n",
    "        # Значения по умолчанию для переменных ориентирования\n",
    "        self.size_orientated = {'width' : self.size['width'], \"height\" : self.size['height'], \"length\" : self.size['length']}\n",
    "        self.square_orientated = self.square\n",
    "\n",
    "        self.max_square_orientated = 0\n",
    "        self.id_square_orientated = ''\n",
    "        for k,v in self.square_orientated.items():\n",
    "            if v > self.max_square_orientated:\n",
    "                self.id_square_orientated = k\n",
    "                self.max_square_orientated = v\n",
    "\n",
    "    # Функция ориентирования в пространстве, запись происходит в другие переменные с постфиксом _orientated\n",
    "    # Square_orientated хранит ориентированные площади после изменение ориентации\n",
    "    def orient_box(self, orient):\n",
    "        self.orientation = orient\n",
    "        if orient == 0:\n",
    "            self.size_orientated = {'width' : self.size['width'], \"height\" : self.size['height'], \"length\" : self.size['length']}\n",
    "        if orient == 1:\n",
    "            self.size_orientated = {'width' : self.size['length'], \"height\" : self.size['height'], \"length\" : self.size['width']}\n",
    "        if orient == 2:\n",
    "            self.size_orientated = {'width' : self.size['height'], \"height\" : self.size['width'], \"length\" : self.size['length']}\n",
    "        if orient == 3:\n",
    "            self.size_orientated = {'width' : self.size['length'], \"height\" : self.size['width'], \"length\" : self.size['height']}\n",
    "        if orient == 4:\n",
    "            self.size_orientated = {'width' : self.size['height'], \"height\" : self.size['length'], \"length\" : self.size['width']}\n",
    "        if orient == 5:\n",
    "            self.size_orientated = {'width' : self.size['width'], \"height\" : self.size['length'], \"length\" : self.size['height']}\n",
    "        self.square_orientated = {'xz_square' : self.size_orientated['width']*self.size_orientated['length'], 'xy_square' : self.size_orientated['height']*self.size_orientated['length'], 'yz_square' : self.size_orientated['height']*self.size_orientated['width']}\n",
    "        for k,v in self.square_orientated.items():\n",
    "            if v > self.max_square_orientated:\n",
    "                self.id_square_orientated = k\n",
    "                self.max_square_orientated = v\n",
    "\n",
    "\n",
    "\n",
    "    # Установка координат центра, также минимальные и максимальные значения по всем осям\n",
    "    def set_center(self, cord):\n",
    "        self.center['x'] = cord['x']\n",
    "        self.center['y'] = cord['y']\n",
    "        self.center['z'] = cord['z']\n",
    "        self.cords['x_min'] = self.center['x'] - self.size_orientated['length']/2\n",
    "        self.cords['x_max'] = self.center['x'] + self.size_orientated['length']/2\n",
    "        self.cords['y_min'] = self.center['y'] - self.size_orientated['height']/2\n",
    "        self.cords['y_max'] = self.center['y'] + self.size_orientated['height']/2\n",
    "        self.cords['z_min'] = self.center['z'] - self.size_orientated['width']/2\n",
    "        self.cords['z_max'] = self.center['z'] + self.size_orientated['width']/2\n",
    "        # 8 Крайних точек, снизу вверх по часовой стрелке.\n",
    "        self.points['P1'] = [self.cords['x_min'], self.cords['y_min'], self.cords['z_min']]\n",
    "        self.points['P2'] = [self.cords['x_max'], self.cords['y_min'], self.cords['z_min']]\n",
    "        self.points['P3'] = [self.cords['x_max'], self.cords['y_min'], self.cords['z_max']]\n",
    "        self.points['P4'] = [self.cords['x_min'], self.cords['y_min'], self.cords['z_max']]\n",
    "\n",
    "        self.points['P5'] = [self.cords['x_min'], self.cords['y_max'], self.cords['z_min']]\n",
    "        self.points['P6'] = [self.cords['x_max'], self.cords['y_max'], self.cords['z_min']]\n",
    "        self.points['P7'] = [self.cords['x_max'], self.cords['y_max'], self.cords['z_max']]\n",
    "        self.points['P8'] = [self.cords['x_min'], self.cords['y_max'], self.cords['z_max']]\n",
    "\n",
    "    # Новая функция посмотреть на алгоритм и возможно доработать, проверка коробок реализовано ниже.\n",
    "    def check_nodes(self, pallet):\n",
    "        #front node line\n",
    "        # if self.nodes['front'] is None:\n",
    "            # print('front' + str(self.size_orientated['width']/2 + self.center['z']))\n",
    "        if self.size_orientated['width']/2 + self.center['z'] == pallet['width']:\n",
    "            self.nodes['front'] = None\n",
    "        else:\n",
    "                # еще должна быть проверка на постановку рядом с другими коробками\n",
    "                # self.nodes['front'] = {'z' : self.size_orientated['width']/2 + self.center['z']}\n",
    "            self.nodes['front'] = {'z' : self.cords['z_max']}\n",
    "        #back node line\n",
    "        # if self.nodes['back'] is None:\n",
    "            # print('back' + str(self.center['z'] - self.size_orientated['width']/2))\n",
    "        if self.center['z'] - self.size_orientated['width']/2 == 0:\n",
    "            self.nodes['back'] = None\n",
    "        else:\n",
    "                # еще должна быть проверка на постановку рядом с другими коробками\n",
    "            self.nodes['back'] = {'z' : self.center['z'] - self.size_orientated['width']/2}\n",
    "\n",
    "        #left node line\n",
    "        # if self.nodes['left'] is None:\n",
    "            # print('left' + str(self.center['x'] - self.size_orientated['length']/2))\n",
    "        if self.center['x'] - self.size_orientated['length']/2 == 0:\n",
    "             self.nodes['left'] = None\n",
    "        else:\n",
    "                # еще должна быть проверка на постановку рядом с другими коробками\n",
    "            self.nodes['left'] = {'x' : self.center['x'] - self.size_orientated['length']/2}\n",
    "\n",
    "        #right node line\n",
    "        # if self.nodes['right'] is None:\n",
    "            # print('right' + str(self.center['x'] - self.size_orientated['length']/2))\n",
    "        if self.center['x'] + self.size_orientated['length']/2 == pallet['length']:\n",
    "            self.nodes['right'] = None\n",
    "        else:\n",
    "                # еще должна быть проверка на постановку рядом с другими коробками\n",
    "                # self.nodes['right'] = {'x' : self.center['x'] + self.size_orientated['length']/2}\n",
    "            self.nodes['right'] = {'x' : self.cords['x_max']}\n",
    "        # up node line\n",
    "        # if self.nodes['up'] is None:\n",
    "            # print('up' + str(self.center['y'] + self.size_orientated['height']/2))\n",
    "        if self.center['y'] + self.size_orientated['height']/2 == pallet['height']:\n",
    "            self.nodes['up'] = None\n",
    "        else:\n",
    "            self.nodes['up'] = {'y' : self.center['y'] + self.size_orientated['height']/2}\n",
    "\n",
    "        # down node line\n",
    "        # if self.nodes['down'] is None:\n",
    "            # print('down' + str(self.center['y'] - self.size_orientated['height']/2))\n",
    "            # ну вообще не может быть снизу место, нужно разобраться\n",
    "        if self.center['y'] - self.size_orientated['height']/2 == 0:\n",
    "            self.nodes['down'] = None\n",
    "        else:\n",
    "            self.nodes['down'] = {'y' : self.center['y'] - self.size_orientated['height']/2}\n",
    "\n",
    "    # Возвращает информацию обо всех переменных в виде словаря\n",
    "    def get_info(self):\n",
    "        info_dict = {\"number\" : self.number, \"volume\":self.volume, \"square\" : self.square, \"size\" : self.size, \"orientation\" : self.orientation, \"size_orientated\" : self.size_orientated, \"square_orientated\" : self.square_orientated, \"center_coords\" : self.center, \"nodes\" : self.nodes, \"cords_min_max\" : self.cords, \"points\" : self.points}\n",
    "        return info_dict\n",
    "# def set_coords(box, coords, pallet, default_place = -1):\n",
    "#     if default_place == -1:\n",
    "#         check_possible_place()\n",
    "\n",
    "# def check_possible_place(list_box, box, pallet):\n",
    "\n",
    "# Пример создания объекта класса и вывода информации.\n",
    "x = RectangularCuboid(0,templates['cargo_groups'][0]['size'])\n",
    "x.get_info()"
   ]
  },
  {
   "cell_type": "markdown",
   "source": [
    "## Создаем словарь с объектами для каждой коробки"
   ],
   "metadata": {
    "collapsed": false,
    "pycharm": {
     "name": "#%% md\n"
    }
   }
  },
  {
   "cell_type": "code",
   "execution_count": 185,
   "outputs": [],
   "source": [
    "counter = 0\n",
    "all_RectCuboid = []\n",
    "for i in templates['cargo_groups']:\n",
    "    for j in range(i['count']):\n",
    "        all_RectCuboid.append(RectangularCuboid(counter, i['size']))\n",
    "        counter+=1"
   ],
   "metadata": {
    "collapsed": false,
    "pycharm": {
     "name": "#%%\n"
    }
   }
  },
  {
   "cell_type": "markdown",
   "source": [
    "### Словарь для хранения размеров паллет"
   ],
   "metadata": {
    "collapsed": false,
    "pycharm": {
     "name": "#%% md\n"
    }
   }
  },
  {
   "cell_type": "code",
   "execution_count": 186,
   "outputs": [
    {
     "data": {
      "text/plain": "{'width': 1.25, 'height': 2.1, 'length': 1.8}"
     },
     "execution_count": 186,
     "metadata": {},
     "output_type": "execute_result"
    }
   ],
   "source": [
    "space = dict(zip(['width','height','length'],[templates['cargo_space']['size'][0]/1000, templates['cargo_space']['size'][1]/1000, templates['cargo_space']['size'][2]/1000]))\n",
    "space\n"
   ],
   "metadata": {
    "collapsed": false,
    "pycharm": {
     "name": "#%%\n"
    }
   }
  },
  {
   "cell_type": "markdown",
   "source": [
    "## Функция рандома координат, возвращает словарь, не вываливается за границы паллета"
   ],
   "metadata": {
    "collapsed": false,
    "pycharm": {
     "name": "#%% md\n"
    }
   }
  },
  {
   "cell_type": "code",
   "execution_count": 176,
   "outputs": [],
   "source": [
    "import random\n",
    "def random_center(pallet_size, box_size):\n",
    "    center_rand = {'x': random.randint(int(box_size['length'] * 1000 / 2), int(pallet_size['length'] * 1000 - box_size['length']*1000 / 2)) / 1000,\n",
    "                   'y': random.randint(int(box_size['height'] * 1000 / 2), int(pallet_size['height'] * 1000 - box_size['height']*1000 / 2)) / 1000,\n",
    "                   'z': random.randint(int(box_size['width'] * 1000 / 2), int(pallet_size['width'] * 1000 - box_size['width']*1000 / 2)) / 1000}\n",
    "    return center_rand"
   ],
   "metadata": {
    "collapsed": false,
    "pycharm": {
     "name": "#%%\n"
    }
   }
  },
  {
   "cell_type": "markdown",
   "source": [
    "## Проверка на возможность размещения коробки в паллете, на основе данных списка с уже имеющимися коробками"
   ],
   "metadata": {
    "collapsed": false,
    "pycharm": {
     "name": "#%% md\n"
    }
   }
  },
  {
   "cell_type": "code",
   "execution_count": 177,
   "outputs": [],
   "source": [
    "def check_box_placement(list_boxes, box):\n",
    "    for boxes in list_boxes:\n",
    "        if box.cords['x_min'] < boxes.cords['x_max'] and box.cords['x_max'] > boxes.cords['x_min'] and box.cords['y_min'] < boxes.cords['y_max'] and box.cords['y_max'] > boxes.cords['y_min'] and box.cords['z_min'] < boxes.cords['z_max'] and box.cords['z_max'] > boxes.cords['z_min']:\n",
    "            return False\n",
    "    return True\n"
   ],
   "metadata": {
    "collapsed": false,
    "pycharm": {
     "name": "#%%\n"
    }
   }
  },
  {
   "cell_type": "markdown",
   "source": [
    "## Тест рандома, 10000 раз, пытаемся поставить коробку 300 раз. Вывод - количество установленных коробок, время работы алгоритма, также получаем список places со всеми удачными расположениями, place - одно расположение, список result по каждой итерации количество установленных коробок."
   ],
   "metadata": {
    "collapsed": false,
    "pycharm": {
     "name": "#%% md\n"
    }
   }
  },
  {
   "cell_type": "code",
   "execution_count": 116,
   "outputs": [
    {
     "name": "stdout",
     "output_type": "stream",
     "text": [
      "39\n",
      "8.837788105010986\n"
     ]
    }
   ],
   "source": [
    "# Placement 1 box\n",
    "result = []\n",
    "place = []\n",
    "places = []\n",
    "import time\n",
    "start = time.time()\n",
    "for i in range(1000):\n",
    "    test_Placement = []\n",
    "    test = all_RectCuboid[0]\n",
    "    test.set_center({'x' : test.size_orientated['length']/2, 'y' : test.size_orientated['height']/2, 'z' : test.size_orientated['width']/2})\n",
    "    test_Placement.append(test)\n",
    "    flag = False\n",
    "    ok = True\n",
    "    for rect in all_RectCuboid[1:]:\n",
    "        ok = True\n",
    "        rand_cord = random_center(space, rect.size_orientated)\n",
    "        rect.set_center(rand_cord)\n",
    "        for num in range(300):\n",
    "            if check_box_placement(test_Placement, rect):\n",
    "                test_Placement.append(rect)\n",
    "                ok = False\n",
    "                break\n",
    "            else:\n",
    "                rand_cord = random_center(space, rect.size_orientated)\n",
    "                rect.set_center(rand_cord)\n",
    "        if ok:\n",
    "            break\n",
    "    if result and len(test_Placement) > max(result):\n",
    "        place = test_Placement\n",
    "    elif result and len(test_Placement) == max(result):\n",
    "        place = test_Placement\n",
    "        places.append(test_Placement)\n",
    "    result.append(len(test_Placement))\n",
    "print(max(result))\n",
    "print(time.time() - start)"
   ],
   "metadata": {
    "collapsed": false,
    "pycharm": {
     "name": "#%%\n"
    }
   }
  },
  {
   "cell_type": "code",
   "execution_count": 193,
   "outputs": [
    {
     "name": "stdout",
     "output_type": "stream",
     "text": [
      "placed\n",
      "placed\n",
      "placed\n",
      "placed\n",
      "placed\n",
      "placed\n",
      "placed\n",
      "placed\n",
      "placed\n",
      "done\n",
      "10\n"
     ]
    },
    {
     "data": {
      "text/plain": "<Figure size 432x288 with 1 Axes>",
      "image/png": "[encoded data removed]"
     },
     "metadata": {
      "needs_background": "light"
     },
     "output_type": "display_data"
    }
   ],
   "source": [
    "# Placement 1 box\n",
    "result = []\n",
    "place = []\n",
    "places = []\n",
    "import time\n",
    "start = time.time()\n",
    "test_Placement = []\n",
    "test = all_RectCuboid[0]\n",
    "test.set_center({'x' : test.size_orientated['length']/2, 'y' : test.size_orientated['height']/2, 'z' : test.size_orientated['width']/2})\n",
    "test_Placement.append(test)\n",
    "flag = False\n",
    "ok = True\n",
    "for rect in all_RectCuboid[1:]:\n",
    "    ok = True\n",
    "    rand_cord = random_center(space, rect.size_orientated)\n",
    "    rand_cord['y'] = rect.size_orientated['height']/2\n",
    "    rect.set_center(rand_cord)\n",
    "    for num in range(10000):\n",
    "        if check_box_placement(test_Placement, rect):\n",
    "            test_Placement.append(rect)\n",
    "            print('placed')\n",
    "            ok = False\n",
    "            break\n",
    "        else:\n",
    "            rand_cord = random_center(space, rect.size_orientated)\n",
    "            rand_cord['y'] = rect.size_orientated['height']/2\n",
    "            rect.set_center(rand_cord)\n",
    "    if ok:\n",
    "        print('done')\n",
    "        break\n",
    "print(len(test_Placement))\n",
    "%matplotlib inline\n",
    "import matplotlib.pyplot as plt\n",
    "import matplotlib.patches as patches\n",
    "\n",
    "fig, ax = plt.subplots()\n",
    "space_rect = patches.Rectangle((0,0), space['length'], space['width'], linewidth=1, edgecolor='r', facecolor='none')\n",
    "ax.add_patch(space_rect)\n",
    "for obj in test_Placement:\n",
    "    x1 = obj.center['x']\n",
    "    z1 = obj.center['z']\n",
    "    ax.plot(x1,z1, 'o', color='blue')\n",
    "    rect = patches.Rectangle((obj.cords['x_min'], obj.cords['z_min']), obj.size_orientated['length'], obj.size_orientated['width'], linewidth=1, edgecolor='g', facecolor='none')\n",
    "    ax.add_patch(rect)\n",
    "ax.set_xlabel('X')\n",
    "ax.set_ylabel('Z')\n",
    "ax.set_title('Визуализация укладки 4ех коробок по углам')\n",
    "plt.savefig('4.png', dpi=300)\n",
    "# for i in test_Placement:\n",
    "#     print(i.get_info())\n",
    "# if result and len(test_Placement) > max(result):\n",
    "#     place = test_Placement\n",
    "# elif result and len(test_Placement) == max(result):\n",
    "#     place = test_Placement\n",
    "#     places.append(test_Placement)\n",
    "#     result.append(len(test_Placement))\n",
    "\n",
    "# print(max(result))\n",
    "# print(time.time() - start)"
   ],
   "metadata": {
    "collapsed": false,
    "pycharm": {
     "name": "#%%\n"
    }
   }
  },
  {
   "cell_type": "code",
   "execution_count": 192,
   "outputs": [
    {
     "data": {
      "text/plain": "<Figure size 432x288 with 1 Axes>",
      "image/png": "[encoded data removed]"
     },
     "metadata": {
      "needs_background": "light"
     },
     "output_type": "display_data"
    }
   ],
   "source": [
    "%matplotlib inline\n",
    "import matplotlib.pyplot as plt\n",
    "import matplotlib.patches as patches\n",
    "\n",
    "fig, ax = plt.subplots()\n",
    "space_rect = patches.Rectangle((0,0), space['length'], space['width'], linewidth=1, edgecolor='r', facecolor='none')\n",
    "ax.add_patch(space_rect)\n",
    "for obj in test_Placement:\n",
    "    x1 = obj.center['x']\n",
    "    z1 = obj.center['z']\n",
    "    ax.plot(x1,z1, 'o', color='blue')\n",
    "    rect = patches.Rectangle((obj.cords['x_min'], obj.cords['z_min']), obj.size_orientated['length'], obj.size_orientated['width'], linewidth=1, edgecolor='g', facecolor='none')\n",
    "    ax.add_patch(rect)\n",
    "ax.set_xlabel('X')\n",
    "ax.set_ylabel('Z')\n",
    "ax.set_title('Визуализация укладки 4ех коробок по углам')\n",
    "plt.savefig('4.png', dpi=300)"
   ],
   "metadata": {
    "collapsed": false,
    "pycharm": {
     "name": "#%%\n"
    }
   }
  },
  {
   "cell_type": "markdown",
   "source": [
    "### Полное количество коробок в списке (исходном)"
   ],
   "metadata": {
    "collapsed": false,
    "pycharm": {
     "name": "#%% md\n"
    }
   }
  },
  {
   "cell_type": "code",
   "execution_count": 10,
   "outputs": [
    {
     "name": "stdout",
     "output_type": "stream",
     "text": [
      "57\n"
     ]
    }
   ],
   "source": [
    "print(len(all_RectCuboid))"
   ],
   "metadata": {
    "collapsed": false,
    "pycharm": {
     "name": "#%%\n"
    }
   }
  },
  {
   "cell_type": "markdown",
   "source": [
    "### Занятый объем коробками и полный объем паллета"
   ],
   "metadata": {
    "collapsed": false,
    "pycharm": {
     "name": "#%% md\n"
    }
   }
  },
  {
   "cell_type": "code",
   "execution_count": 11,
   "outputs": [
    {
     "name": "stdout",
     "output_type": "stream",
     "text": [
      "1.8968619499999997\n",
      "4.7250000000000005\n"
     ]
    }
   ],
   "source": [
    "sum_vol = 0\n",
    "for pl in place:\n",
    "    sum_vol += pl.volume\n",
    "print(sum_vol)\n",
    "from functools import reduce\n",
    "print(reduce((lambda x, y : x*y), list(space.values())))"
   ],
   "metadata": {
    "collapsed": false,
    "pycharm": {
     "name": "#%%\n"
    }
   }
  },
  {
   "cell_type": "markdown",
   "source": [
    "## Вывод всех координат коробок из place, можно будет посмотреть еще и на другие \"удачные укладки\" сделав еще один цикл по places."
   ],
   "metadata": {
    "collapsed": false,
    "pycharm": {
     "name": "#%% md\n"
    }
   }
  },
  {
   "cell_type": "code",
   "execution_count": 41,
   "outputs": [],
   "source": [
    "for pl in place:\n",
    "    print (pl.center)"
   ],
   "metadata": {
    "collapsed": false,
    "pycharm": {
     "name": "#%%\n"
    }
   }
  },
  {
   "cell_type": "code",
   "execution_count": 94,
   "outputs": [],
   "source": [
    "import copy\n",
    "copyAll = copy.deepcopy(all_RectCuboid)\n",
    "N = len(copyAll)\n",
    "\n",
    "for i in range(N):\n",
    "    for j in range(N- i - 1):\n",
    "        if copyAll[j].max_square_orientated < copyAll[j+1].max_square_orientated :\n",
    "            copyAll[j] , copyAll[j+1]  = copyAll[j+1] , copyAll[j]\n",
    "for i in copyAll:\n",
    "    print(i.max_square_orientated, i.id_square_orientated, i.number)\n"
   ],
   "metadata": {
    "collapsed": false,
    "pycharm": {
     "name": "#%%\n"
    }
   }
  },
  {
   "cell_type": "markdown",
   "source": [
    "# Примерный алгоритм заполнения узлов, нужно реализовать функцию!!!"
   ],
   "metadata": {
    "collapsed": false,
    "pycharm": {
     "name": "#%% md\n"
    }
   }
  },
  {
   "cell_type": "code",
   "execution_count": 40,
   "outputs": [
    {
     "name": "stdout",
     "output_type": "stream",
     "text": [
      "BOX1_NODES----------------------------\n",
      "{'front': {'z': 0.23}, 'right': {'x': 0.38}, 'back': None, 'left': None, 'up': {'y': 0.23}, 'down': None}\n",
      "\n",
      "BOX1_NODES_AFTER_SET_BOX2NODES--------\n",
      "{'front': {'z': 0.23}, 'right': {'x': 0.38}, 'back': None, 'left': None, 'up': {'y': 0.23}, 'down': None}\n",
      "\n",
      "BOX1_NODES_CHANGE_NODE_TO_NUMBER------\n",
      "{'front': 1, 'right': {'x': 0.38}, 'back': None, 'left': None, 'up': {'y': 0.23}, 'down': None}\n",
      "\n",
      "BOX2_NODES----------------------------\n",
      "{'front': {'z': 0.5900000000000001}, 'right': {'x': 0.17}, 'back': {'z': 0.23000000000000004}, 'left': None, 'up': {'y': 0.205}, 'down': None}\n",
      "\n",
      "BOX2_NODES_CHANGE_NODE_TO_NUMBER------\n",
      "{'front': {'z': 0.5900000000000001}, 'right': {'x': 0.17}, 'back': 0, 'left': None, 'up': {'y': 0.205}, 'down': None}\n",
      "END-----------------------------------\n"
     ]
    }
   ],
   "source": [
    "import copy\n",
    "\n",
    "box1 = copy.deepcopy(all_RectCuboid[0])\n",
    "box1.set_center({'x' : box1.size_orientated['length']/2, 'y' : box1.size_orientated['height']/2, 'z' : box1.size_orientated['width']/2})\n",
    "box1.check_nodes(space)\n",
    "print(\"BOX1_NODES----------------------------\")\n",
    "print(box1.nodes)\n",
    "print()\n",
    "print(\"BOX1_NODES_AFTER_SET_BOX2NODES--------\")\n",
    "box2 = copy.deepcopy(all_RectCuboid[1])\n",
    "box2.set_center({'x' : box2.size_orientated['length']/2, 'y' : box2.size_orientated['height']/2, 'z' : box1.nodes['front']['z'] + box2.size_orientated['width']/2})\n",
    "print(box1.nodes)\n",
    "print()\n",
    "print(\"BOX1_NODES_CHANGE_NODE_TO_NUMBER------\")\n",
    "box1.nodes['front'] = box2.number\n",
    "print(box1.nodes)\n",
    "print()\n",
    "print(\"BOX2_NODES----------------------------\")\n",
    "box2.check_nodes(space)\n",
    "print(box2.nodes)\n",
    "print()\n",
    "print(\"BOX2_NODES_CHANGE_NODE_TO_NUMBER------\")\n",
    "box2.nodes['back'] = box1.number\n",
    "print(box2.nodes)\n",
    "print(\"END-----------------------------------\")"
   ],
   "metadata": {
    "collapsed": false,
    "pycharm": {
     "name": "#%%\n"
    }
   }
  },
  {
   "cell_type": "code",
   "execution_count": 280,
   "outputs": [
    {
     "name": "stdout",
     "output_type": "stream",
     "text": [
      "ITER0\n",
      "{'front': {'z': 0.5900000000000001}, 'right': {'x': 0.17}, 'back': {'z': 0.23000000000000004}, 'left': None, 'up': {'y': 0.205}, 'down': None}\n",
      "placed_front\n",
      "END {'x': 0.085, 'y': 0.1025, 'z': 0.41000000000000003} {'front': {'z': 0.5900000000000001}, 'right': {'x': 0.17}, 'back': 0, 'left': None, 'up': {'y': 0.205}, 'down': None}\n",
      "ITER1\n",
      "{'front': {'z': 1.01}, 'right': {'x': 0.42}, 'back': {'z': 0.5900000000000001}, 'left': None, 'up': {'y': 0.298}, 'down': None}\n",
      "placed_front\n",
      "END {'x': 0.21, 'y': 0.149, 'z': 0.8} {'front': {'z': 1.01}, 'right': {'x': 0.42}, 'back': 1, 'left': None, 'up': {'y': 0.298}, 'down': None}\n",
      "ITER2\n",
      "{'front': {'z': 1.4200000000000002}, 'right': {'x': 0.2}, 'back': {'z': 1.01}, 'left': None, 'up': {'y': 0.166}, 'down': None}\n",
      "try right\n",
      "{'front': {'z': 1.4200000000000002}, 'right': {'x': 0.2}, 'back': {'z': 1.01}, 'left': None, 'up': {'y': 0.166}, 'down': None}\n",
      "[0, 0, 0, 0]\n",
      "{'front': {'z': 0.41}, 'right': {'x': 0.58}, 'back': None, 'left': {'x': 0.38}, 'up': {'y': 0.166}, 'down': None}\n",
      "right\n",
      "END {'x': 0.48, 'y': 0.083, 'z': 0.205} {'front': {'z': 0.41}, 'right': {'x': 0.58}, 'back': None, 'left': 2, 'up': {'y': 0.166}, 'down': None}\n",
      "ITER3\n",
      "{'front': {'z': 0.79}, 'right': {'x': 0.48}, 'back': {'z': 0.41}, 'left': {'x': 0.38}, 'up': {'y': 0.164}, 'down': None}\n",
      "try right\n",
      "{'front': {'z': 0.79}, 'right': {'x': 0.48}, 'back': {'z': 0.41}, 'left': {'x': 0.38}, 'up': {'y': 0.164}, 'down': None}\n",
      "[None, None, 1.01, 0.5900000000000001]\n",
      "{'front': {'z': 0.38}, 'right': {'x': 0.68}, 'back': None, 'left': {'x': 0.58}, 'up': {'y': 0.164}, 'down': None}\n",
      "right\n",
      "END {'x': 0.63, 'y': 0.082, 'z': 0.19} {'front': {'z': 0.38}, 'right': {'x': 0.68}, 'back': None, 'left': 3, 'up': {'y': 0.164}, 'down': None}\n",
      "ITER4\n",
      "{'front': {'z': 0.64}, 'right': {'x': 0.7499999999999999}, 'back': {'z': 0.38}, 'left': {'x': 0.58}, 'up': {'y': 0.139}, 'down': None}\n",
      "placed_front\n",
      "END {'x': 0.6649999999999999, 'y': 0.0695, 'z': 0.51} {'front': {'z': 0.64}, 'right': {'x': 0.7499999999999999}, 'back': 4, 'left': {'x': 0.58}, 'up': {'y': 0.139}, 'down': None}\n",
      "ITER5\n",
      "{'front': {'z': 0.78}, 'right': {'x': 0.7}, 'back': {'z': 0.6399999999999999}, 'left': {'x': 0.5799999999999998}, 'up': {'y': 0.158}, 'down': None}\n",
      "try right\n",
      "{'front': {'z': 0.78}, 'right': {'x': 0.7}, 'back': {'z': 0.6399999999999999}, 'left': {'x': 0.5799999999999998}, 'up': {'y': 0.158}, 'down': None}\n",
      "[0.58, None, 0.64, 0.38]\n",
      "right\n",
      "END {'x': 0.6399999999999999, 'y': 0.079, 'z': 0.75} {'front': {'z': 0.8200000000000001}, 'right': {'x': 0.7}, 'back': {'z': 0.6799999999999999}, 'left': 5, 'up': {'y': 0.158}, 'down': None}\n",
      "ITER6\n",
      "{'front': {'z': 1.1300000000000001}, 'right': {'x': 0.69}, 'back': {'z': 0.8200000000000001}, 'left': {'x': 0.5799999999999998}, 'up': {'y': 0.161}, 'down': None}\n",
      "placed_front\n",
      "END {'x': 0.6349999999999999, 'y': 0.0805, 'z': 0.9750000000000001} {'front': {'z': 1.1300000000000001}, 'right': {'x': 0.69}, 'back': 6, 'left': {'x': 0.5799999999999998}, 'up': {'y': 0.161}, 'down': None}\n",
      "ITER7\n",
      "{'front': {'z': 1.53}, 'right': {'x': 0.69}, 'back': {'z': 1.1300000000000001}, 'left': {'x': 0.5799999999999998}, 'up': {'y': 0.169}, 'down': None}\n",
      "try right\n",
      "{'front': {'z': 1.53}, 'right': {'x': 0.69}, 'back': {'z': 1.1300000000000001}, 'left': {'x': 0.5799999999999998}, 'up': {'y': 0.169}, 'down': None}\n",
      "[0, 0, 0, 0]\n",
      "{'front': {'z': 0.4}, 'right': {'x': 0.81}, 'back': None, 'left': {'x': 0.7}, 'up': {'y': 0.169}, 'down': None}\n",
      "0.755\n",
      "0\n",
      "6\n",
      "8\n",
      "False True\n",
      "pizda\n",
      "{'number': 7, 'volume': 0.0054901, 'square': {'xz_square': 0.0341, 'xy_square': 0.01771, 'yz_square': 0.04991}, 'size': {'width': 0.31, 'height': 0.161, 'length': 0.11}, 'orientation': 0, 'size_orientated': {'width': 0.31, 'height': 0.161, 'length': 0.11}, 'square_orientated': {'xz_square': 0.0341, 'xy_square': 0.01771, 'yz_square': 0.04991}, 'center_coords': {'x': 0.6349999999999999, 'y': 0.0805, 'z': 0.9750000000000001}, 'nodes': {'front': {'z': 1.1300000000000001}, 'right': {'x': 0.69}, 'back': 6, 'left': {'x': 0.5799999999999998}, 'up': {'y': 0.161}, 'down': None}, 'cords_min_max': {'x_min': 0.5799999999999998, 'x_max': 0.69, 'y_min': 0.0, 'y_max': 0.161, 'z_min': 0.8200000000000001, 'z_max': 1.1300000000000001}, 'points': {'P1': [0.5799999999999998, 0.0, 0.8200000000000001], 'P2': [0.69, 0.0, 0.8200000000000001], 'P3': [0.69, 0.0, 1.1300000000000001], 'P4': [0.5799999999999998, 0.0, 1.1300000000000001], 'P5': [0.5799999999999998, 0.161, 0.8200000000000001], 'P6': [0.69, 0.161, 0.8200000000000001], 'P7': [0.69, 0.161, 1.1300000000000001], 'P8': [0.5799999999999998, 0.161, 1.1300000000000001]}}\n"
     ]
    }
   ],
   "source": [
    "def place_box(b_1, b_2, node):\n",
    "    reverse_nodes = {'front' : 'back', 'back' : 'front', 'up' : 'down', 'down' : 'up', 'left' : 'right', 'right' : 'left'}\n",
    "    b_1.nodes[node] = b_2.number\n",
    "    b_2.nodes[reverse_nodes[node]] = b_1.number\n",
    "\n",
    "def check_box_pallet(b, s):\n",
    "    if b.center['x'] + b.size_orientated['length']/2 <= s['length'] and b.center['y'] + b.size_orientated['height']/2 <= s['height'] and b.center['z'] + b.size_orientated['width']/2 <= s['width']:\n",
    "        return True\n",
    "    return False\n",
    "# НЕ РАБОТАЕТ\n",
    "def check_hueta(list_boxes, box):\n",
    "    x_max = 0\n",
    "    x_min = 10\n",
    "    z_max = 0\n",
    "    z_min = 10\n",
    "    for boxes in list_boxes:\n",
    "        if box.cords['x_min'] < boxes.cords['x_max'] and box.cords['x_max'] > boxes.cords['x_min'] and box.cords['y_min'] < boxes.cords['y_max'] and box.cords['y_max'] > boxes.cords['y_min'] and box.cords['z_min'] < boxes.cords['z_max'] and box.cords['z_max'] > boxes.cords['z_min']:\n",
    "            if box.cords['x_min'] < boxes.cords['x_max']:\n",
    "                if boxes.cords['x_max'] >= x_max:\n",
    "                    x_max = boxes.cords['x_max']\n",
    "                # print('x_max',boxes.cords['x_max'])\n",
    "            if box.cords['x_max'] > boxes.cords['x_min']:\n",
    "                if boxes.cords['x_min'] <= x_min:\n",
    "                    x_max = boxes.cords['x_min']\n",
    "                # print('x_min',boxes.cords['x_min'])\n",
    "            # if box.cords['y_min'] < boxes.cords['y_max']:\n",
    "            #     print('y_max', boxes.cords['y_max'])\n",
    "            # if box.cords['y_max'] > boxes.cords['y_min']:\n",
    "            #     print('y_min', boxes.cords['y_min'])\n",
    "            if box.cords['z_min'] < boxes.cords['z_max']:\n",
    "                if boxes.cords['z_max'] >= z_max:\n",
    "                    z_max = boxes.cords['z_max']\n",
    "                # print('z_max', boxes.cords['z_max'])\n",
    "            if box.cords['z_max'] > boxes.cords['z_min']:\n",
    "                if boxes.cords['z_min'] <= z_min:\n",
    "                    z_min = boxes.cords['z_min']\n",
    "            # print('z_min',  boxes.cords['z_min'])\n",
    "    if x_max == 0:\n",
    "        x_max = None\n",
    "    if x_min == 10:\n",
    "        x_min = None\n",
    "    if z_max == 0:\n",
    "        z_max = None\n",
    "    if z_min == 10:\n",
    "        z_min = None\n",
    "    return [x_max, x_min, z_max, z_min]\n",
    "    #     if box.cords['x_min'] < boxes.cords['x_max'] and box.cords['x_max'] > boxes.cords['x_min'] and box.cords['y_min'] < boxes.cords['y_max'] and box.cords['y_max'] > boxes.cords['y_min'] and box.cords['z_min'] < boxes.cords['z_max'] and box.cords['z_max'] > boxes.cords['z_min']:\n",
    "    #         print(box.cords['x_min'] < boxes.cords['x_max'], box.cords['x_max'] > boxes.cords['x_min'], box.cords['y_min'] < boxes.cords['y_max'], box.cords['y_max'] > boxes.cords['y_min'], box.cords['z_min'] < boxes.cords['z_max'], box.cords['z_max'] > boxes.cords['z_min'])\n",
    "    #         return False\n",
    "    # return True\n",
    "test1 = copy.deepcopy(all_RectCuboid)\n",
    "list_nodes_placed_box = []\n",
    "\n",
    "test1[0].set_center({'x' : test1[0].size_orientated['length']/2, 'y' : test1[0].size_orientated['height']/2, 'z' : test1[0].size_orientated['width']/2})\n",
    "test1[0].check_nodes(space)\n",
    "# print(test1[0].get_info())\n",
    "\n",
    "\n",
    "list_nodes_placed_box.append(test1[0].nodes)\n",
    "placed_box_list = [test1[0]]\n",
    "\n",
    "set_node = ['front', 'right']\n",
    "cords_node = ['z', 'x']\n",
    "cnt = 0\n",
    "row_node = 0\n",
    "crd_node = 0\n",
    "for j,i in enumerate(test1[1:]):\n",
    "    print(\"ITER\" + str(j))\n",
    "    crd = list_nodes_placed_box[j][set_node[cnt]][cords_node[cnt]]\n",
    "    i.set_center({'x' : crd_node + i.size_orientated['length']/2, 'y' : i.size_orientated['height']/2, 'z' : crd + i.size_orientated['width']/2})\n",
    "    i.check_nodes(space)\n",
    "    print(i.nodes)\n",
    "    if check_box_placement(placed_box_list, i) and check_box_pallet(i, space):\n",
    "        print(\"placed_front\")\n",
    "        place_box(placed_box_list[j], i, set_node[cnt])\n",
    "        list_nodes_placed_box.append(i.nodes)\n",
    "        placed_box_list.append(i)\n",
    "    else:\n",
    "        print(\"try right\")\n",
    "        cnt = 1\n",
    "        crd = list_nodes_placed_box[row_node][set_node[cnt]][cords_node[cnt]]\n",
    "        print(i.nodes)\n",
    "        c = check_hueta(placed_box_list, i)\n",
    "        if c[0] is None and c[1] is None and c[2] is None and c[3] is None:\n",
    "            c = [0,0,0,0]\n",
    "        print(c)\n",
    "        if c[0] is None:\n",
    "            c[0] = 0\n",
    "        i.set_center({'x' : c[0] + i.size_orientated['length']/2, 'y' : i.size_orientated['height']/2, 'z' : crd + i.size_orientated['width']/2})\n",
    "        i.check_nodes(space)\n",
    "        if check_box_placement(placed_box_list, i) and check_box_pallet(i, space):\n",
    "            place_box(placed_box_list[j], i, set_node[cnt])\n",
    "            list_nodes_placed_box.append(i.nodes)\n",
    "            placed_box_list.append(i)\n",
    "            row_node = j+1\n",
    "            print('right')\n",
    "            cnt = 0\n",
    "            crd_node = i.cords['x_min']\n",
    "        else:\n",
    "            i.set_center({'x' : crd + i.size_orientated['length']/2, 'y' : i.size_orientated['height']/2, 'z' : i.size_orientated['width']/2})\n",
    "            i.check_nodes(space)\n",
    "            print(i.nodes)\n",
    "            if check_box_placement(placed_box_list, i) and check_box_pallet(i, space):\n",
    "                place_box(placed_box_list[j], i, set_node[cnt])\n",
    "                list_nodes_placed_box.append(i.nodes)\n",
    "                placed_box_list.append(i)\n",
    "                row_node = j+1\n",
    "                print('right')\n",
    "                cnt = 0\n",
    "                crd_node = i.cords['x_min']\n",
    "            else:\n",
    "                print(crd + i.size_orientated['length']/2)\n",
    "                print(c[0])\n",
    "                print(row_node)\n",
    "                print(len(list_nodes_placed_box))\n",
    "                print(check_box_placement(placed_box_list, i), check_box_pallet(i, space))\n",
    "                print('pizda')\n",
    "                break\n",
    "    print(\"END\", i.center, list_nodes_placed_box[j+1])\n",
    "print(placed_box_list[-1].get_info())"
   ],
   "metadata": {
    "collapsed": false,
    "pycharm": {
     "name": "#%%\n"
    }
   }
  },
  {
   "cell_type": "code",
   "execution_count": 281,
   "outputs": [
    {
     "data": {
      "text/plain": "Text(0, 0.5, 'X')"
     },
     "execution_count": 281,
     "metadata": {},
     "output_type": "execute_result"
    },
    {
     "data": {
      "text/plain": "<Figure size 432x288 with 1 Axes>",
      "image/png": "[encoded data removed]"
     },
     "metadata": {
      "needs_background": "light"
     },
     "output_type": "display_data"
    }
   ],
   "source": [
    "fig, ax = plt.subplots()\n",
    "space_rect = patches.Rectangle((0,0), space['length'], space['width'], linewidth=1, edgecolor='r', facecolor='none')\n",
    "ax.add_patch(space_rect)\n",
    "for obj in placed_box_list:\n",
    "    x1 = obj.center['x']\n",
    "    z1 = obj.center['z']\n",
    "    ax.plot(x1,z1, 'o', color='blue')\n",
    "    rect = patches.Rectangle((obj.cords['x_min'], obj.cords['z_min']), obj.size_orientated['length'], obj.size_orientated['width'], linewidth=1, edgecolor='g', facecolor='none')\n",
    "    ax.add_patch(rect)\n",
    "ax.set_xlabel('Z')\n",
    "ax.set_ylabel('X')"
   ],
   "metadata": {
    "collapsed": false,
    "pycharm": {
     "name": "#%%\n"
    }
   }
  },
  {
   "cell_type": "markdown",
   "source": [
    "# ТЕСТЫ ИСПРАВЛЕННОЙ ВЕРХНЕЙ ЯЧЕЙКИ"
   ],
   "metadata": {
    "collapsed": false,
    "pycharm": {
     "name": "#%% md\n"
    }
   }
  },
  {
   "cell_type": "code",
   "execution_count": 285,
   "outputs": [
    {
     "name": "stdout",
     "output_type": "stream",
     "text": [
      "ITER0\n",
      "placed_front\n",
      "END {'x': 0.085, 'y': 0.1025, 'z': 0.41000000000000003} {'front': {'z': 0.5900000000000001}, 'right': {'x': 0.17}, 'back': 0, 'left': None, 'up': {'y': 0.205}, 'down': None}\n",
      "ITER1\n",
      "placed_front\n",
      "END {'x': 0.21, 'y': 0.149, 'z': 0.8} {'front': {'z': 1.01}, 'right': {'x': 0.42}, 'back': 1, 'left': None, 'up': {'y': 0.298}, 'down': None}\n",
      "ITER2\n",
      "try right\n",
      "{'front': 1, 'right': {'x': 0.38}, 'back': None, 'left': None, 'up': {'y': 0.23}, 'down': None} right x\n",
      "right\n",
      "END {'x': 0.48, 'y': 0.083, 'z': 0.205} {'front': {'z': 0.41}, 'right': {'x': 0.58}, 'back': None, 'left': 2, 'up': {'y': 0.166}, 'down': None}\n",
      "ITER3\n",
      "left kasanie\n",
      "ITER4\n",
      "left kasanie\n",
      "ITER5\n",
      "placed_front\n",
      "END {'x': 0.44, 'y': 0.079, 'z': 1.12} {'front': {'z': 1.1900000000000002}, 'right': {'x': 0.5}, 'back': 5, 'left': {'x': 0.38}, 'up': {'y': 0.158}, 'down': None}\n",
      "ITER6\n",
      "try right\n",
      "{'front': 4, 'right': {'x': 0.58}, 'back': None, 'left': 2, 'up': {'y': 0.166}, 'down': None} right x\n",
      "right\n",
      "END {'x': 0.635, 'y': 0.0805, 'z': 0.155} {'front': {'z': 0.31}, 'right': {'x': 0.6900000000000001}, 'back': None, 'left': 6, 'up': {'y': 0.161}, 'down': None}\n",
      "ITER7\n",
      "placed_front\n",
      "END {'x': 0.635, 'y': 0.0845, 'z': 0.51} {'front': {'z': 0.71}, 'right': {'x': 0.6900000000000001}, 'back': 7, 'left': {'x': 0.58}, 'up': {'y': 0.169}, 'down': None}\n",
      "ITER8\n",
      "left kasanie\n",
      "ITER9\n",
      "try right\n",
      "{'front': 8, 'right': {'x': 0.6900000000000001}, 'back': None, 'left': 6, 'up': {'y': 0.161}, 'down': None} right x\n",
      "right\n",
      "END {'x': 1.0150000000000001, 'y': 0.41, 'z': 0.22} {'front': {'z': 0.44}, 'right': {'x': 1.34}, 'back': None, 'left': 9, 'up': {'y': 0.82}, 'down': None}\n",
      "ITER10\n",
      "left kasanie\n",
      "0.56\n",
      "10\n",
      "0.6900000000000002\n",
      "11\n",
      "False True\n",
      "pizda\n",
      "{'number': 10, 'volume': 0.23452, 'square': {'xz_square': 0.36079999999999995, 'xy_square': 0.28600000000000003, 'yz_square': 0.533}, 'size': {'width': 0.82, 'height': 0.65, 'length': 0.44}, 'orientation': 3, 'size_orientated': {'width': 0.44, 'height': 0.82, 'length': 0.65}, 'square_orientated': {'xz_square': 0.28600000000000003, 'xy_square': 0.533, 'yz_square': 0.36079999999999995}, 'center_coords': {'x': 1.0150000000000001, 'y': 0.41, 'z': 0.22}, 'nodes': {'front': {'z': 0.44}, 'right': {'x': 1.34}, 'back': None, 'left': 9, 'up': {'y': 0.82}, 'down': None}, 'cords_min_max': {'x_min': 0.6900000000000002, 'x_max': 1.34, 'y_min': 0.0, 'y_max': 0.82, 'z_min': 0.0, 'z_max': 0.44}, 'points': {'P1': [0.6900000000000002, 0.0, 0.0], 'P2': [1.34, 0.0, 0.0], 'P3': [1.34, 0.0, 0.44], 'P4': [0.6900000000000002, 0.0, 0.44], 'P5': [0.6900000000000002, 0.82, 0.0], 'P6': [1.34, 0.82, 0.0], 'P7': [1.34, 0.82, 0.44], 'P8': [0.6900000000000002, 0.82, 0.44]}}\n"
     ]
    }
   ],
   "source": [
    "def place_box(b_1, b_2, node):\n",
    "    reverse_nodes = {'front' : 'back', 'back' : 'front', 'up' : 'down', 'down' : 'up', 'left' : 'right', 'right' : 'left'}\n",
    "    b_1.nodes[node] = b_2.number\n",
    "    b_2.nodes[reverse_nodes[node]] = b_1.number\n",
    "\n",
    "def check_box_pallet(b, s):\n",
    "    if b.center['x'] + b.size_orientated['length']/2 <= s['length'] and b.center['y'] + b.size_orientated['height']/2 <= s['height'] and b.center['z'] + b.size_orientated['width']/2 <= s['width']:\n",
    "        return True\n",
    "    return False\n",
    "# НЕ РАБОТАЕТ\n",
    "def check_left(list_boxes, box):\n",
    "    x_max = 0\n",
    "    for boxes in list_boxes:\n",
    "        if box.cords['x_min'] < boxes.cords['x_max'] and box.cords['x_max'] > boxes.cords['x_min'] and box.cords['y_min'] < boxes.cords['y_max'] and box.cords['y_max'] > boxes.cords['y_min'] and box.cords['z_min'] < boxes.cords['z_max'] and box.cords['z_max'] > boxes.cords['z_min']:\n",
    "            if box.cords['x_min'] < boxes.cords['x_max'] < box.cords['x_max']:\n",
    "                x_max = boxes.cords['x_max'] - box.cords['x_min']\n",
    "\n",
    "    return x_max\n",
    "#копирование\n",
    "test1 = copy.deepcopy(all_RectCuboid)\n",
    "list_nodes_placed_box = []\n",
    "# ставим руками коробку\n",
    "test1[0].set_center({'x' : test1[0].size_orientated['length']/2, 'y' : test1[0].size_orientated['height']/2, 'z' : test1[0].size_orientated['width']/2})\n",
    "test1[0].check_nodes(space)\n",
    "list_nodes_placed_box.append(test1[0].nodes)\n",
    "placed_box_list = [test1[0]]\n",
    "\n",
    "# test\n",
    "test1[10].orient_box(3)\n",
    "# нужная хуйня\n",
    "set_node = ['front', 'right']\n",
    "cords_node = ['z', 'x']\n",
    "cnt = 0\n",
    "row_node = 0\n",
    "crd_node = 0\n",
    "for j,i in enumerate(test1[1:]):\n",
    "    print(\"ITER\" + str(j))\n",
    "    #считаем кординату по z, ставим центр и ноды\n",
    "    crd = list_nodes_placed_box[j][set_node[cnt]][cords_node[cnt]]\n",
    "    i.set_center({'x' : crd_node + i.size_orientated['length']/2, 'y' : i.size_orientated['height']/2, 'z' : crd + i.size_orientated['width']/2})\n",
    "    i.check_nodes(space)\n",
    "\n",
    "    # print(i.nodes)\n",
    "    # можем ли мы так ее разместить и не вылазим ли за паллет\n",
    "    if check_box_placement(placed_box_list, i) and check_box_pallet(i, space):\n",
    "        print(\"placed_front\")\n",
    "        place_box(placed_box_list[j], i, set_node[cnt])\n",
    "        list_nodes_placed_box.append(i.nodes)\n",
    "        placed_box_list.append(i)\n",
    "    else:\n",
    "        left = check_left(placed_box_list, i)\n",
    "        if left != 0:\n",
    "            print('left kasanie')\n",
    "            i.set_center({'x' : crd_node + left + i.size_orientated['length']/2, 'y' : i.size_orientated['height']/2, 'z' : crd + i.size_orientated['width']/2})\n",
    "            i.check_nodes(space)\n",
    "            if check_box_placement(placed_box_list, i) and check_box_pallet(i, space):\n",
    "                place_box(placed_box_list[j], i, set_node[cnt])\n",
    "                list_nodes_placed_box.append(i.nodes)\n",
    "                placed_box_list.append(i)\n",
    "                continue\n",
    "        else:\n",
    "            print(\"try right\")\n",
    "            cnt = 1\n",
    "            print(list_nodes_placed_box[row_node], set_node[cnt], cords_node[cnt])\n",
    "            crd = list_nodes_placed_box[row_node][set_node[cnt]][cords_node[cnt]]\n",
    "            i.set_center({'x' : crd + i.size_orientated['length']/2, 'y' : i.size_orientated['height']/2, 'z' : i.size_orientated['width']/2})\n",
    "            i.check_nodes(space)\n",
    "\n",
    "        if check_box_placement(placed_box_list, i) and check_box_pallet(i, space):\n",
    "            place_box(placed_box_list[j], i, set_node[cnt])\n",
    "            list_nodes_placed_box.append(i.nodes)\n",
    "            placed_box_list.append(i)\n",
    "            row_node = j+1\n",
    "            print('right')\n",
    "            cnt = 0\n",
    "            crd_node = i.cords['x_min']\n",
    "        else:\n",
    "            i.set_center({'x' : crd + i.size_orientated['length']/2, 'y' : i.size_orientated['height']/2, 'z' : i.size_orientated['width']/2})\n",
    "            i.check_nodes(space)\n",
    "            if check_box_placement(placed_box_list, i) and check_box_pallet(i, space):\n",
    "                place_box(placed_box_list[j], i, set_node[cnt])\n",
    "                list_nodes_placed_box.append(i.nodes)\n",
    "                placed_box_list.append(i)\n",
    "                row_node = j+1\n",
    "                print('right')\n",
    "                cnt = 0\n",
    "                crd_node = i.cords['x_min']\n",
    "            else:\n",
    "                print(crd + i.size_orientated['length']/2)\n",
    "                print(row_node)\n",
    "                print(crd_node)\n",
    "                print(len(list_nodes_placed_box))\n",
    "                print(check_box_placement(placed_box_list, i), check_box_pallet(i, space))\n",
    "                print('pizda')\n",
    "                break\n",
    "    print(\"END\", i.center, list_nodes_placed_box[j+1])\n",
    "print(placed_box_list[-1].get_info())"
   ],
   "metadata": {
    "collapsed": false,
    "pycharm": {
     "name": "#%%\n"
    }
   }
  },
  {
   "cell_type": "code",
   "execution_count": 286,
   "outputs": [
    {
     "data": {
      "text/plain": "Text(0, 0.5, 'X')"
     },
     "execution_count": 286,
     "metadata": {},
     "output_type": "execute_result"
    },
    {
     "data": {
      "text/plain": "<Figure size 432x288 with 1 Axes>",
      "image/png": "[encoded data removed]"
     },
     "metadata": {
      "needs_background": "light"
     },
     "output_type": "display_data"
    }
   ],
   "source": [
    "fig, ax = plt.subplots()\n",
    "space_rect = patches.Rectangle((0, 0), space['length'], space['width'], linewidth=1, edgecolor='r', facecolor='none')\n",
    "ax.add_patch(space_rect)\n",
    "for obj in placed_box_list:\n",
    "    x1 = obj.center['x']\n",
    "    z1 = obj.center['z']\n",
    "    ax.plot(x1, z1, 'o', color='blue')\n",
    "    rect = patches.Rectangle((obj.cords['x_min'], obj.cords['z_min']), obj.size_orientated['length'],\n",
    "                             obj.size_orientated['width'], linewidth=1, edgecolor='g', facecolor='none')\n",
    "    ax.add_patch(rect)\n",
    "ax.set_xlabel('Z')\n",
    "ax.set_ylabel('X')"
   ],
   "metadata": {
    "collapsed": false,
    "pycharm": {
     "name": "#%%\n"
    }
   }
  },
  {
   "cell_type": "code",
   "execution_count": 268,
   "outputs": [
    {
     "name": "stdout",
     "output_type": "stream",
     "text": [
      "{'front': {'z': 1.11}, 'right': {'x': 0.52}, 'back': 7, 'left': {'x': 0.41}, 'up': {'y': 0.169}, 'down': None} 8\n"
     ]
    }
   ],
   "source": [
    "print(list_nodes_placed_box[-1], placed_box_list[-1].number)"
   ],
   "metadata": {
    "collapsed": false,
    "pycharm": {
     "name": "#%%\n"
    }
   }
  },
  {
   "cell_type": "markdown",
   "source": [
    "### Пример задания координат и создания списка уложенных коробок"
   ],
   "metadata": {
    "collapsed": false,
    "pycharm": {
     "name": "#%% md\n"
    }
   }
  },
  {
   "cell_type": "code",
   "execution_count": 7,
   "outputs": [],
   "source": [
    "RectCuboid = []\n",
    "\n",
    "# xzy\n",
    "sample_cords = [{'x' : 0,'z' : 0,'y' : 0}, {'x' : space['length'], 'z' : 0,'y' : 0}, {'x' : 0, 'y' : 0, 'z' : space['width']}, {'x' : space['length'], 'y':0, 'z' : space['width']}]\n",
    "#Это можно взять за основу проверки на выход за границы\n",
    "for i in range(4):\n",
    "    tmp_dict = {}\n",
    "    temp = all_RectCuboid[i]\n",
    "    if sample_cords[i]['x'] + temp.size_orientated['length']/2 > space['length']:\n",
    "        tmp_dict['x'] = space['length'] - temp.size_orientated['length']/2\n",
    "    else:\n",
    "        tmp_dict['x'] = sample_cords[i]['x'] + temp.size_orientated['length']/2\n",
    "\n",
    "    if sample_cords[i]['y'] + temp.size_orientated['height']/2 > space['height']:\n",
    "        tmp_dict['y'] = space['height'] - temp.size_orientated['height']/2\n",
    "    else:\n",
    "        tmp_dict['y'] = sample_cords[i]['y'] + temp.size_orientated['height']/2\n",
    "\n",
    "    if sample_cords[i]['z'] + temp.size_orientated['width']/2 > space['width']:\n",
    "        tmp_dict['z'] = space['width'] - temp.size_orientated['width']/2\n",
    "    else:\n",
    "        tmp_dict['z'] = sample_cords[i]['z'] + temp.size_orientated['width']/2\n",
    "    temp.set_center(tmp_dict)\n",
    "    RectCuboid.append(temp)\n",
    "# def checker(list_cubes, box, coords):\n",
    "#\n",
    "#     for i in list_cubes:\n"
   ],
   "metadata": {
    "collapsed": false,
    "pycharm": {
     "name": "#%%\n"
    }
   }
  },
  {
   "cell_type": "markdown",
   "source": [
    "### График уложенных коробок в осях XZ"
   ],
   "metadata": {
    "collapsed": false,
    "pycharm": {
     "name": "#%% md\n"
    }
   }
  },
  {
   "cell_type": "code",
   "execution_count": 8,
   "outputs": [
    {
     "data": {
      "text/plain": "<Figure size 432x288 with 1 Axes>",
      "image/png": "[encoded data removed]"
     },
     "metadata": {
      "needs_background": "light"
     },
     "output_type": "display_data"
    }
   ],
   "source": [
    "# plot\n",
    "%matplotlib inline\n",
    "import matplotlib.pyplot as plt\n",
    "import matplotlib.patches as patches\n",
    "\n",
    "fig, ax = plt.subplots()\n",
    "space_rect = patches.Rectangle((0,0), space['length'], space['width'], linewidth=1, edgecolor='r', facecolor='none')\n",
    "ax.add_patch(space_rect)\n",
    "for obj in RectCuboid:\n",
    "    x1 = obj.center['x']\n",
    "    z1 = obj.center['z']\n",
    "    ax.plot(x1,z1, 'o', color='blue')\n",
    "    rect = patches.Rectangle((obj.cords['x_min'], obj.cords['z_min']), obj.size_orientated['length'], obj.size_orientated['width'], linewidth=1, edgecolor='g', facecolor='none')\n",
    "    ax.add_patch(rect)\n",
    "ax.set_xlabel('X')\n",
    "ax.set_ylabel('Z')\n",
    "ax.set_title('Визуализация укладки 4ех коробок по углам')\n",
    "plt.savefig('4_box_corners.png', dpi=300)"
   ],
   "metadata": {
    "collapsed": false,
    "pycharm": {
     "name": "#%%\n"
    }
   }
  },
  {
   "cell_type": "code",
   "execution_count": 14,
   "outputs": [
    {
     "data": {
      "text/plain": "<Figure size 432x288 with 1 Axes>",
      "image/png": "[encoded data removed]"
     },
     "metadata": {
      "needs_background": "light"
     },
     "output_type": "display_data"
    }
   ],
   "source": [
    "#Пока не очень в 3д, не научился рисовать плоскости, но по точкам можно понять коробки в 4ех углах\n",
    "import matplotlib.pyplot as plt\n",
    "fig = plt.figure()\n",
    "ax = fig.add_subplot(111, projection='3d')\n",
    "\n",
    "for obj in RectCuboid:\n",
    "    ax.scatter([i[0] for i in list(obj.points.values())],[i[2] for i in list(obj.points.values())],[i[1] for i in list(obj.points.values())],c='red',marker='o')\n",
    "plt.show()"
   ],
   "metadata": {
    "collapsed": false,
    "pycharm": {
     "name": "#%%\n"
    }
   }
  },
  {
   "cell_type": "code",
   "execution_count": 13,
   "outputs": [
    {
     "data": {
      "text/plain": "<Figure size 432x288 with 1 Axes>",
      "image/png": "[encoded data removed]"
     },
     "metadata": {
      "needs_background": "light"
     },
     "output_type": "display_data"
    }
   ],
   "source": [
    "# Нужно доработать определение границ, но разворот работает)))\n",
    "import copy\n",
    "fig1 = plt.figure()\n",
    "ax1 = fig1.add_subplot(111, projection='3d')\n",
    "b = copy.deepcopy(RectCuboid[0])\n",
    "b1 = copy.deepcopy(RectCuboid[0])\n",
    "b1.orient_box(1)\n",
    "b1.set_center({'x' : 0, 'y' : 0, 'z' : 0})\n",
    "ax1.scatter([i[0] for i in list(b.points.values())],[i[2] for i in list(b.points.values())],[i[1] for i in list(b.points.values())],c='red')\n",
    "ax1.scatter([i[0] for i in list(b1.points.values())],[i[2] for i in list(b1.points.values())],[i[1] for i in list(b1.points.values())],c='green')\n",
    "plt.show()"
   ],
   "metadata": {
    "collapsed": false,
    "pycharm": {
     "name": "#%%\n"
    }
   }
  },
  {
   "cell_type": "markdown",
   "source": [
    "# Код для создания изображений графиков для всех файлов и типов коробок в них"
   ],
   "metadata": {
    "collapsed": false,
    "pycharm": {
     "name": "#%% md\n"
    }
   }
  },
  {
   "cell_type": "code",
   "execution_count": null,
   "id": "107de3d7",
   "metadata": {
    "pycharm": {
     "name": "#%%\n"
    }
   },
   "outputs": [],
   "source": [
    "import os.path\n",
    "import matplotlib.pylab as plt\n",
    "for address, dirs, files in os.walk('./_vg_85_bgg5jsons 2/'):\n",
    "    for name in files:\n",
    "        print(os.path.join(address, name))\n",
    "        pa = os.path.join(address, name)\n",
    "        if pa == './_vg_85_bgg5jsons 2/.DS_Store':\n",
    "            continue\n",
    "        else:\n",
    "            with open(pa) as f:\n",
    "                templates = json.load(f)\n",
    "            volume = {}\n",
    "            # print(templates['cargo_groups'][0]['size'])\n",
    "            if isinstance(templates['cargo_groups'][0]['size'], dict):\n",
    "                for j,i in enumerate(templates['cargo_groups']):\n",
    "                    volume[j] = i['size']['width']*i['size']['height']*i['size']['length']/1000000000\n",
    "            else:\n",
    "                for j,i in enumerate(templates['cargo_groups']):\n",
    "                    volume[j] = i['size'][0]*i['size'][1]*i['size'][2]/1000000000\n",
    "\n",
    "            lists = sorted(volume.items())\n",
    "            x, y = zip(*lists)\n",
    "            plt.bar(x, y)\n",
    "            plt.savefig('./test_dir/'+name.split('.')[0]+'.png')\n",
    "            plt.clf()\n",
    "            plt.close()\n",
    "            f.close()"
   ]
  },
  {
   "cell_type": "markdown",
   "source": [
    "# Код для поиска информации из всех json"
   ],
   "metadata": {
    "collapsed": false,
    "pycharm": {
     "name": "#%% md\n"
    }
   }
  },
  {
   "cell_type": "code",
   "execution_count": null,
   "id": "84ffd3c2",
   "metadata": {
    "pycharm": {
     "name": "#%%\n"
    }
   },
   "outputs": [],
   "source": [
    "# Код для Parsing всех json\n",
    "import os.path\n",
    "json_list = []\n",
    "for address, dirs, files in os.walk('./_vg_85_bgg5jsons 2/'):\n",
    "    for name in files:\n",
    "        # print(os.path.join(address, name))\n",
    "        pa = os.path.join(address, name)\n",
    "        if pa == './_vg_85_bgg5jsons 2/.DS_Store':\n",
    "            continue\n",
    "        else:\n",
    "            with open(pa) as f:\n",
    "                templates = json.load(f)\n",
    "            #Переменные для объемов и размеров\n",
    "            volume_dict = {}\n",
    "            volume_sum = 0\n",
    "            sizes_dict = {}\n",
    "            #Обработка size для групп коробок, может быть как лист так и словарь\n",
    "            if isinstance(templates['cargo_groups'][0]['size'], dict):\n",
    "                for j,i in enumerate(templates['cargo_groups']):\n",
    "                    volume_dict[j] = i['size']['width']*i['size']['height']*i['size']['length']/1000000000\n",
    "                    volume_sum+= i['size']['width']*i['size']['height']*i['size']['length']/1000000000 * i['count']\n",
    "                    sizes_dict[j] = i['size']\n",
    "            else:\n",
    "                for j,i in enumerate(templates['cargo_groups']):\n",
    "                    volume_dict[j] = i['size'][0]*i['size'][1]*i['size'][2]/1000000000\n",
    "                    volume_sum+= i['size'][0]*i['size'][1]*i['size'][2]/1000000000 * i['count']\n",
    "                    sizes_dict[j] = {'width' : i['size'][0], 'height': i['size'][1], 'length': i['size'][2]}\n",
    "                    \n",
    "            #Аналогично с размером палета\n",
    "            if isinstance(templates['cargo_space']['size'], dict):\n",
    "                volume_cargo = templates['cargo_space']['size']['width']*templates['cargo_space']['size']['height']*templates['cargo_space']['size']['length']/1000000000\n",
    "            else:\n",
    "                volume_cargo = templates['cargo_space']['size'][0]*templates['cargo_space']['size'][1]*templates['cargo_space']['size'][2]/1000000000\n",
    "            # Подсчет процента\n",
    "            volume_percent = volume_sum/volume_cargo\n",
    "            # Теперь размеры минимальные и максимальные по каждому измерению\n",
    "            values_dict = {}\n",
    "            for i, j in sizes_dict.items():\n",
    "                if not values_dict:\n",
    "                    values_dict['width_min'] = {i : j['width']}\n",
    "                    values_dict['height_min'] = {i : j['height']}\n",
    "                    values_dict['length_min'] = {i : j['height']}\n",
    "                    values_dict['width_max'] = {i : j['width']}\n",
    "                    values_dict['height_max'] = {i : j['height']}\n",
    "                    values_dict['length_max'] = {i : j['height']}\n",
    "                else:\n",
    "                    if j['width'] > list(values_dict['width_max'].values())[0]:\n",
    "                        values_dict['width_max'] = {i : j['width']}\n",
    "                    if j['height'] > list(values_dict['height_max'].values())[0]:\n",
    "                        values_dict['height_max'] = {i : j['height']}\n",
    "                    if j['length'] > list(values_dict['length_max'].values())[0]:\n",
    "                        values_dict['length_max'] = {i : j['length']}\n",
    "                        \n",
    "                    if j['width'] < list(values_dict['width_min'].values())[0]:\n",
    "                        values_dict['width_min'] = {i : j['width']}\n",
    "                    if j['height'] < list(values_dict['height_min'].values())[0]:\n",
    "                        values_dict['height_min'] = {i : j['height']}\n",
    "                    if j['length'] < list(values_dict['length_min'].values())[0]:\n",
    "                        values_dict['length_min'] = {i : j['length']}\n",
    "            # Запись в финальный словарь\n",
    "            json_dict = {'file' : name, 'volume_cargo' : volume_cargo, 'volume_boxs' : volume_sum, 'volume_percent': volume_percent, 'sizes_id_box_min_max' : values_dict}\n",
    "            # Добавление словаря в список\n",
    "            json_list.append(json_dict)\n",
    "# Создание единого файла\n",
    "final_dict = {'data' : json_list}\n",
    "with open('result.json', 'w') as fp:\n",
    "    json.dump(final_dict, fp)"
   ]
  },
  {
   "cell_type": "code",
   "execution_count": null,
   "id": "cf8c3b5f",
   "metadata": {
    "pycharm": {
     "name": "#%%\n"
    }
   },
   "outputs": [],
   "source": [
    "# Вывод содержимого листа\n",
    "json_list"
   ]
  }
 ],
 "metadata": {
  "kernelspec": {
   "display_name": "Python 3 (ipykernel)",
   "language": "python",
   "name": "python3"
  },
  "language_info": {
   "codemirror_mode": {
    "name": "ipython",
    "version": 3
   },
   "file_extension": ".py",
   "mimetype": "text/x-python",
   "name": "python",
   "nbconvert_exporter": "python",
   "pygments_lexer": "ipython3",
   "version": "3.9.12"
  }
 },
 "nbformat": 4,
 "nbformat_minor": 5
}